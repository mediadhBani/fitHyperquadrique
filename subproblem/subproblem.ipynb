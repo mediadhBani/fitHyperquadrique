{
 "cells": [
  {
   "cell_type": "markdown",
   "metadata": {
    "id": "x9ZCu0Ineebu"
   },
   "source": [
    "# Projet d'optimisation \n",
    "Mohamed-Iadh BANI & Mohamed BEN FTIMA -- ISI A\n"
   ]
  },
  {
   "cell_type": "markdown",
   "metadata": {
    "id": "h5ayuWM4kTzn"
   },
   "source": [
    "## Phase 1 : Visualiser une HQ de paramètres donnés"
   ]
  },
  {
   "cell_type": "code",
   "execution_count": null,
   "metadata": {
    "id": "qTMv89LK2d97"
   },
   "outputs": [],
   "source": [
    "# bibliotheques des graphes et fonctions mathematiques\n",
    "import matplotlib.pyplot as plt\n",
    "import numpy as np"
   ]
  },
  {
   "cell_type": "markdown",
   "metadata": {
    "id": "pGBagdVEf3gW"
   },
   "source": [
    "### Visualisation d'hyperquadratique et de droites enveloppantes\n",
    "Ci-dessous les fonctions récurrentes :"
   ]
  },
  {
   "cell_type": "code",
   "execution_count": null,
   "metadata": {
    "id": "_ln47T9N7XVF"
   },
   "outputs": [],
   "source": [
    "#fonction hyperquadratique\n",
    "def hyperQuad(x,y,hq):\n",
    "    \"\"\"Valeur en (x,y) de l'hyperquadratique `hq`.\"\"\"\n",
    "    sum = 0\n",
    "    for a,b,c,g in hq:\n",
    "        sum += abs(a*x + b*y + c)**g\n",
    "    return sum-1\n",
    "\n",
    "#affichage d'hyperquadratique\n",
    "def hyperTrace(x2D, y2D, hq):\n",
    "    \"\"\"Tracé de l'hyperquadratique `hq`.\"\"\"\n",
    "    plt.contour(x2D, y2D, hyperQuad(x2D,y2D,hq), levels=[0], colors='k') # Isovaleurs\n",
    "    \n",
    "#affichage de droites enveloppantes\n",
    "def droiteEnv(hq, limy):\n",
    "    \"\"\"tracé des droites enveloppantes de l'hyperquadratique `hq` dans le domaine limité en ordonnée par `limy`.\"\"\"\n",
    "    for a,b,c,_ in hq:\n",
    "        if b == 0:\n",
    "            plt.vlines([-(c+1)/a, (1-c)/a], *limy, lw=1.1)\n",
    "        else:\n",
    "            plt.axline((0, (c+1)/-b), slope=-a/b, lw=1.1)\n",
    "            plt.axline((0, (c-1)/-b), slope=-a/b, lw=1.1)\n",
    "\n",
    "#Parametres de l'hyperquadratique \n",
    "def hyperDescrip(hq):\n",
    "    \"\"\"Description des paramètres de l'hyperquadratique `hq`.\"\"\"\n",
    "    k = 1\n",
    "    for terme in hq:\n",
    "       print(\"Terme {0:2} : a = {1[0]:6.3f} ; b = {1[1]:6.3f} ; c = {1[2]:6.3f} ; gamma = {1[3]:3}\".format(k, terme))\n",
    "       k += 1\n",
    "\n",
    "# Affichage\n",
    "def affichage(titre, limx=[-1.1, 1.1], limy=[-1.1, 1.1]):\n",
    "    \"\"\"Mise en forme de base de plusieurs graphes par l'ajout du `titre` et du domaine du tracé `limx` et `limy`.\"\"\"\n",
    "    plt.axis('square')\n",
    "    plt.title(titre)\n",
    "    plt.xlabel('x')\n",
    "    plt.ylabel('y')\n",
    "    plt.xlim(*limx)\n",
    "    plt.ylim(*limy)\n",
    "    plt.grid()"
   ]
  },
  {
   "cell_type": "markdown",
   "metadata": {
    "id": "0FwZfkcN9ckZ"
   },
   "source": [
    "On fait l'illustration de l'utilisation des fonctions du bloc ci-dessus."
   ]
  },
  {
   "cell_type": "code",
   "execution_count": null,
   "metadata": {
    "colab": {
     "base_uri": "https://localhost:8080/",
     "height": 968
    },
    "id": "Jb7U2g2Q5kzQ",
    "outputId": "ddbd9fa2-ba53-4b4b-da4a-f95aa066a736"
   },
   "outputs": [],
   "source": [
    "x = np.linspace(-1,1)\n",
    "y = np.linspace(-1,1)\n",
    "x2D, y2D = np.meshgrid(x,y)\n",
    "\n",
    "#Parametre d'un cercle\n",
    "cercle = [[1,0,0,2], [0,1,0,2]]\n",
    "#parametre d'hyperquadratique à 3 termes\n",
    "patate = [[1,0,0,5], [0,1,0,5], [.7,-.7,0,5]]\n",
    "#parametre d'hyperquadratique à 4 termes\n",
    "pomme = [[1,0,0,5], [0,1,0,5], [.6, -.6, 0, 5], [.6, .6, 0, 5]]\n",
    "\n",
    "fig = plt.figure(figsize=(20,6))\n",
    "\n",
    "#Visualiser un cercle et les droites englobantes\n",
    "plt.subplot(1,3,1)\n",
    "affichage(\"Cercle\")\n",
    "hyperTrace(x2D, y2D, cercle)\n",
    "droiteEnv(cercle, plt.ylim())\n",
    "\n",
    "#Visualiser une hyperquadrique à 3 termes et les droites englobantes\n",
    "plt.subplot(1,3,2)\n",
    "affichage(\"Hyperquadratique à 3 termes\")\n",
    "hyperTrace(x2D, y2D, patate)\n",
    "droiteEnv(patate, plt.ylim())\n",
    "\n",
    "#Visualiser une hyperquadrique à 4 termes et les droites englobantes\n",
    "plt.subplot(1,3,3)\n",
    "affichage(\"Hyperquadratique à 4 termes\")\n",
    "hyperTrace(x2D, y2D, pomme)\n",
    "droiteEnv(pomme, plt.ylim())\n",
    "\n",
    "plt.show()\n",
    "\n",
    "#Affichage des paramètres de l'hyperquadratique à 3 termes\n",
    "print(\"Paramètres de l'hyperquadratique a 3 termes :\")\n",
    "hyperDescrip(patate)"
   ]
  },
  {
   "cell_type": "markdown",
   "metadata": {
    "id": "0ZnoQADv9qSE"
   },
   "source": [
    "### Influence des paramètres de l'hyperquadratique"
   ]
  },
  {
   "cell_type": "code",
   "execution_count": null,
   "metadata": {
    "colab": {
     "base_uri": "https://localhost:8080/",
     "height": 732
    },
    "id": "1mKTCHAk9pjS",
    "outputId": "15db8033-f7d8-4fda-d184-52ec3e99ba8e"
   },
   "outputs": [],
   "source": [
    "x = np.linspace(-2,2)\n",
    "y = np.linspace(-2,2)\n",
    "x2D, y2D = np.meshgrid(x,y)\n",
    "\n",
    "def changemtParam(hq, i, j, param1, param2):\n",
    "    temp = [terme[:] for terme in hq]\n",
    "    hyperTrace(x2D, y2D, hq)\n",
    "\n",
    "    temp[i][j] = param1\n",
    "    plt.contour(x2D, y2D, hyperQuad(x2D,y2D,temp), levels=0, colors='b', linewidths=1, linestyles='dashed')\n",
    "    temp[i][j] = param2\n",
    "    plt.contour(x2D, y2D, hyperQuad(x2D,y2D,temp), levels=0, colors='r', linewidths=1, linestyles='dashed')\n",
    "\n",
    "    titre = \"Influence du terme ${}_{}$\".format(['a', 'b', 'c', '\\\\gamma'][j], i+1)\n",
    "    affichage(titre, plt.xlim(), plt.ylim())\n",
    "    \n",
    "    del temp[i]\n",
    "    droiteEnv(temp, plt.ylim())"
   ]
  },
  {
   "cell_type": "code",
   "execution_count": null,
   "metadata": {
    "colab": {
     "base_uri": "https://localhost:8080/",
     "height": 895
    },
    "id": "gP22e2-FNaoi",
    "outputId": "893b1238-b71d-4c0a-d459-7b01f0229123"
   },
   "outputs": [],
   "source": [
    "#Visualiser les influence des paramètres d'une hyperquadrique à 4\n",
    "plt.figure(figsize=[32,16], num=\"paramCercle\")\n",
    "plt.subplot(2,4,1); changemtParam(cercle, 0, 0, .5, 2)\n",
    "plt.subplot(2,4,2); changemtParam(cercle, 0, 1, -1, 1)\n",
    "plt.subplot(2,4,3); changemtParam(cercle, 0, 2, -1, 1)\n",
    "plt.subplot(2,4,4); changemtParam(cercle, 0, 3, .5, 16)\n",
    "\n",
    "plt.subplot(2,4,5); changemtParam(cercle, 1, 0, -1, 1)\n",
    "plt.subplot(2,4,6); changemtParam(cercle, 1, 1, .5, 2)\n",
    "plt.subplot(2,4,7); changemtParam(cercle, 1, 2, -1, 1)\n",
    "plt.subplot(2,4,8); changemtParam(cercle, 1, 3, .5, 16)\n",
    "\n",
    "plt.figure(figsize=[32,16], num=\"paramPatate\")\n",
    "plt.subplot(2,4,1); changemtParam(patate, 0, 0, .5, 1.5)\n",
    "plt.subplot(2,4,2); changemtParam(patate, 0, 1, -.5, .5)\n",
    "plt.subplot(2,4,3); changemtParam(patate, 0, 2, -.5, .5)\n",
    "plt.subplot(2,4,4); changemtParam(patate, 0, 3, .01, 16)\n",
    "\n",
    "plt.subplot(2,4,5); changemtParam(patate, 2, 0, .5, 1.5)\n",
    "plt.subplot(2,4,6); changemtParam(patate, 2, 1, -.5, .5)\n",
    "plt.subplot(2,4,7); changemtParam(patate, 2, 2, -.5, .5)\n",
    "plt.subplot(2,4,8); changemtParam(patate, 2, 3, .01, 16)\n"
   ]
  },
  {
   "cell_type": "markdown",
   "metadata": {
    "id": "GQycFLMGlCOK"
   },
   "source": [
    "Sur la figure ci-dessus (double-cliquer pour agrandir) on trace les hyperquadratiques (HQ) dans 3 cas de figures :\n",
    "- le tracé noir est celui de l'hyperquadratique dans le cas initial ;\n",
    "- le tracé bleu est celui de l'hyperquadratique pour laquelle on a diminué la valeur d'un paramètre donné ;\n",
    "- le tracé rouge est celui de l'hyperquadratique pour laquelle on a augmenté la valeur d'un paramètre donné.\n",
    "\n",
    "En jouant avec les paramètres des HQ, on remarque que chacun des paramètres $a$ , $b$ , $c$ et $γ$ ont une influence sur le tracé de l'HQ et sur deux droites englobantes contrairement aux autres droites qui restent fixes. On a approxmativement :\n",
    "\n",
    "- le paramètre $a$ qui \"écrase\" l'HQ sur elle même quand il augmente ou \"l'étire\" quand il baisse,\n",
    "- le paramètre $b$ qui déforme l'HQ à la manière d'une contrainte de cisaillement, \n",
    "- le paramètre $c$ qui translate l’HQ ou \"l'écrase\" contre les droites englobantes fixes,\n",
    "- le paramètre $γ$ qui fait \"gonfler\" l'HQ de manière à occuper le domaine d'un carré de côté 1 quand il augmente et la fait \"dégonfler\" quand il baisse.\n",
    "\n",
    "On constate que les rôles de $a$ et $b$ sont parfois intervertis (bien visible dans les figures avec le cercle) mais que cela change la direction des transformation (selon l'axe $y$ plutôt que selon $x$ et vice versa)."
   ]
  },
  {
   "cell_type": "markdown",
   "metadata": {
    "id": "lAUrIIApiKDA"
   },
   "source": [
    "## Phase 2 : Fitter un nuage de points par une HQ dont une partie des paramètres est donnée"
   ]
  },
  {
   "cell_type": "code",
   "execution_count": null,
   "metadata": {
    "colab": {
     "base_uri": "https://localhost:8080/",
     "height": 250
    },
    "id": "qiXppJJdiKNF",
    "outputId": "b7185f67-23c1-4648-cbb0-727a12e679e2"
   },
   "outputs": [],
   "source": [
    "# Extraction de points\n",
    "f = open('Data_HQ_Ph1et2.csv', 'r') #Données à fitter : Nuage de points\n",
    "x = [float(u) for u in f.readline().split(',')]\n",
    "y = [float(u) for u in f.readline().split(',')]\n",
    "f.close()\n",
    "\n",
    "# probleme simplifie\n",
    "def psi(x,y,a,b):\n",
    "    return (a*x+b*y)**4 + (x+y)**4 - 1  #Fonction utilisée pour le fit\n",
    "\n",
    "# critere quadratique. Fonction objectif de minimisation de distance\n",
    "def J(x,y,a,b):\n",
    "    som = 0\n",
    "    for u,v in zip(x,y):\n",
    "        som += psi(u,v,a,b)**2\n",
    "    return som"
   ]
  },
  {
   "cell_type": "markdown",
   "metadata": {
    "id": "VLyvGiDSiLe3"
   },
   "source": [
    "### Méthode 1 : Descente de gradient"
   ]
  },
  {
   "cell_type": "code",
   "execution_count": null,
   "metadata": {
    "id": "4DHgp7hHiMDp"
   },
   "outputs": [],
   "source": [
    "# Descente de gradient\n",
    "def dPsi(x,y,a,b):\n",
    "    return [4*x*(a*x+b*y)**3, 4*y*(a*x+b*y)**3]\n",
    "\n",
    "# Derivation sur a et b\n",
    "def dJ(x,y,a,b): \n",
    "    som = [0, 0]\n",
    "    for u,v in zip(x,y):\n",
    "        etape = 8*psi(u,v,a,b)*(a*u+b*v)**3\n",
    "        som[0] += u*etape\n",
    "        som[1] += v*etape\n",
    "    return som\n",
    "\n",
    "def gradient(x,y,a0,b0,alpha,eps,nmax):\n",
    "    dX = float('inf')   # reel\n",
    "    n = 0               # entier\n",
    "    Xa, Xb = [a0], [b0] # vecteurs de reels\n",
    "    \n",
    "    while dX > eps and n < nmax:\n",
    "        D = dJ(x,y,Xa[-1],Xb[-1])\n",
    "        Xa.append(Xa[-1] - alpha*D[0])\n",
    "        Xb.append(Xb[-1] - alpha*D[1])\n",
    "        dX = alpha*np.sqrt(D[0]**2 + D[1]**2)\n",
    "        n += 1\n",
    "    \n",
    "    return Xa, Xb, n, (dX <= eps)\n",
    "\n",
    "# Illustration de la méthode de gradient\n",
    "\n",
    "a = np.linspace(-1, 1,100)\n",
    "b = np.linspace(-1, 1,100)\n",
    "a2D, b2D = np.meshgrid(a,b)\n",
    "\n",
    "Xa, Xb, nIter, converge = gradient(x,y,.1,-.1,.007,1e-6,50)\n",
    "\n",
    "iso = 3*(np.logspace(0,1)-1)\n",
    "\n",
    "plt.figure(num='gradient')\n",
    "plt.contour(a2D, b2D, J(x,y,a2D,b2D), levels=iso)\n",
    "plt.plot(Xa, Xb, '-ro', lw=1.5, markersize=3)\n",
    "plt.plot(Xa[-1], Xb[-1], 'ko', markersize=3)\n",
    "\n",
    "plt.title(\"Méthode du gradient\")\n",
    "plt.xlabel('coefficient a')\n",
    "plt.ylabel('coefficient b')\n",
    "plt.axis('square')\n",
    "\n",
    "plt.show()"
   ]
  },
  {
   "cell_type": "markdown",
   "metadata": {},
   "source": [
    "Visuellement, on voit que la méthode du gradient arrive au paramétrage cible mais qu'il en ignore un autre vers la coordonnée (-0.9, 0.4)."
   ]
  },
  {
   "cell_type": "markdown",
   "metadata": {},
   "source": [
    "###  Méthode 2 : méthode de Newton\n"
   ]
  },
  {
   "cell_type": "code",
   "execution_count": null,
   "metadata": {},
   "outputs": [],
   "source": [
    "# Derivation sur a et b\n",
    "def HJ(x,y,a,b):\n",
    "    som = [[0,0], [0,0]]\n",
    "    for u,v in zip(x,y):\n",
    "        etape1 = (a*u+b*v)\n",
    "        etape2 = 8*etape1**2\n",
    "        etape3 = etape2*(4*etape1**4 + 3*psi(u,v,a,b))\n",
    "        som[0][0] += u*u*etape3\n",
    "        som[0][1] += u*v*etape3\n",
    "        som[1][0] += u*v*etape3\n",
    "        som[1][1] += v*v*etape3\n",
    "    return som\n",
    "\n",
    "def newton(x,y,a0,b0,eps,nmax):\n",
    "    dX = float('inf')   # reel\n",
    "    n = 0               # entier\n",
    "    Xa, Xb = [a0], [b0] # vecteurs de reels\n",
    "    \n",
    "    while dX > eps and n < nmax:\n",
    "        d1J = np.array(dJ(x, y, Xa[-1], Xb[-1]))\n",
    "        d2J = np.array(HJ(x, y, Xa[-1], Xb[-1]))\n",
    "        \n",
    "        DeltaX = np.tensordot(-np.linalg.inv(d2J), d1J, 1)\n",
    "        Xa.append(Xa[-1]+DeltaX[0])\n",
    "        Xb.append(Xb[-1]+DeltaX[1])\n",
    "        dX = np.linalg.norm(DeltaX)\n",
    "        \n",
    "        n += 1\n",
    "        \n",
    "    return Xa, Xb, n, (dX <= eps)\n",
    "\n",
    "# Illustration de la méthode de Newton\n",
    "\n",
    "a = np.linspace(-1.5, 1.5,100)\n",
    "b = np.linspace(-1.5, 1.5,100)\n",
    "a2D, b2D = np.meshgrid(a,b)\n",
    "\n",
    "iso = 3*(np.logspace(0,1)-1)\n",
    "plt.figure(num='newton', figsize=[15,15])\n",
    "plt.contour(a2D, b2D, J(x,y,a2D,b2D), levels=iso)\n",
    "plt.colorbar()\n",
    "\n",
    "departs = np.random.rand(7,2)*2-1\n",
    "for X in departs:\n",
    "    Xa, Xb, nIter, converge = newton(x,y,X[0],X[1],1e-6,20)\n",
    "    plt.plot(Xa, Xb, '-ro', lw=1.5, markersize=3)\n",
    "    plt.plot(Xa[-1], Xb[-1], 'ko', markersize=3)\n",
    "    print(f\"{Xa[-1]:9.6f}, {Xb[-1]:9.6f}\\tconverge? {converge}\")\n",
    "\n",
    "plt.title(\"Méthode de Newton\")\n",
    "\n",
    "plt.xlabel('Coefficient a')\n",
    "plt.ylabel('Coefficient b')\n",
    "plt.axis('square')\n",
    "\n",
    "plt.show()"
   ]
  },
  {
   "cell_type": "markdown",
   "metadata": {},
   "source": [
    "On constate que la méthode de Newton ne fonctionne pas à tous les coups : elle converge parfois vers un maximum local plutôt qu'un minimum. Cependant nous obtenons facilement les deux paramétrages qui minimisent la fonction objectif :\n",
    "- $(a,b)_1$ = (-0.803460,  0.373712)\n",
    "- $(a,b)_2$ = (0.803460, -0.373712)"
   ]
  },
  {
   "cell_type": "code",
   "execution_count": null,
   "metadata": {},
   "outputs": [],
   "source": [
    "# Résultat sur le nuage de points\n",
    "plt.figure('hyperquad')\n",
    "plt.scatter(x,y)\n",
    "\n",
    "A, B = 0.803460, -0.373712\n",
    "\n",
    "borne = 1.5\n",
    "u = np.linspace(-borne, borne)\n",
    "v = np.linspace(-borne, borne)\n",
    "u2D, v2D = np.meshgrid(u, v)\n",
    "plt.contour(u2D, v2D, psi(u2D,v2D,A,B), levels=[0], colors='k')\n",
    "\n",
    "plt.title('Hyperquadratique ajustée au nuage de points')\n",
    "plt.xlabel('Coordonnée x')\n",
    "plt.ylabel('Coordonnée y')\n",
    "plt.show()\n",
    "\n",
    "hq = [[A,B,0,4],[1,1,0,4]]\n",
    "hyperDescrip(hq)"
   ]
  },
  {
   "cell_type": "markdown",
   "metadata": {},
   "source": [
    "On remarque que l’hyperquadrique est bien superposée au nuage de points."
   ]
  }
 ],
 "metadata": {
  "colab": {
   "collapsed_sections": [],
   "name": "baniBenftima-ph1.ipynb",
   "provenance": []
  },
  "kernelspec": {
   "display_name": "Python 3",
   "language": "python",
   "name": "python3"
  },
  "language_info": {
   "codemirror_mode": {
    "name": "ipython",
    "version": 3
   },
   "file_extension": ".py",
   "mimetype": "text/x-python",
   "name": "python",
   "nbconvert_exporter": "python",
   "pygments_lexer": "ipython3",
   "version": "3.8.3"
  }
 },
 "nbformat": 4,
 "nbformat_minor": 1
}
